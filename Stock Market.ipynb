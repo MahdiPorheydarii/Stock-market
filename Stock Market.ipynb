{
 "cells": [
  {
   "cell_type": "code",
   "execution_count": null,
   "metadata": {},
   "outputs": [],
   "source": [
    "import numpy as np\n",
    "import pandas as pd\n",
    "import matplotlib.pyplot as plt\n",
    "import yfinance as yf\n",
    "from datetime import datetime\n",
    "import plotly.express as px\n",
    "import matplotlib.ticker as ticker\n",
    "import seaborn as sns\n",
    "from sklearn.linear_model import LinearRegression"
   ]
  },
  {
   "attachments": {},
   "cell_type": "markdown",
   "metadata": {},
   "source": [
    "\n",
    "# <span style=\"color:red\"> * Read Data<span>"
   ]
  },
  {
   "cell_type": "code",
   "execution_count": 2,
   "metadata": {},
   "outputs": [],
   "source": [
    "Data = pd.read_csv('stock_market_data.csv')\n",
    "AMZN = Data[Data['Symbol'] == 'AMZN']\n",
    "FB = Data[Data['Symbol'] == 'FB']\n",
    "TSLA = Data[Data['Symbol'] == 'TSLA']\n",
    "GOOGL = Data[Data['Symbol'] == 'GOOGL']\n",
    "AAPL = Data[Data['Symbol'] == 'AAPL']"
   ]
  },
  {
   "cell_type": "code",
   "execution_count": 142,
   "metadata": {},
   "outputs": [],
   "source": [
    "### USER DATABASE ###\n",
    "user_shares = {}\n",
    "curr_price = {}\n",
    "latest_price = {}\n",
    "second_to_latest = {}"
   ]
  },
  {
   "attachments": {},
   "cell_type": "markdown",
   "metadata": {},
   "source": [
    "\n",
    "# <span style=\"color:red\"> * Shares settings<span>"
   ]
  },
  {
   "cell_type": "code",
   "execution_count": 4,
   "metadata": {},
   "outputs": [],
   "source": [
    "tlist = [AMZN, FB, TSLA, GOOGL, AAPL]\n",
    "tickers = ['AMZN', 'FB', 'TSLA', 'GOOGL', 'AAPL']\n",
    "tp = {'AMZN' : list(AMZN['Open'])[-1], 'FB' : list(FB['Open'])[-1], 'TSLA' : list(TSLA['Open'])[-1], 'GOOGL': list(GOOGL['Open'])[-1], 'AAPL': list(AAPL['Open'])[-1]}"
   ]
  },
  {
   "attachments": {},
   "cell_type": "markdown",
   "metadata": {},
   "source": [
    "<h3> Welcome to NYSE Stock market, please sign up to continue: </h3>"
   ]
  },
  {
   "attachments": {},
   "cell_type": "markdown",
   "metadata": {},
   "source": [
    "<h6> please enter your first name and last name: </h6>"
   ]
  },
  {
   "cell_type": "code",
   "execution_count": 5,
   "metadata": {},
   "outputs": [
    {
     "name": "stdout",
     "output_type": "stream",
     "text": [
      "\n"
     ]
    }
   ],
   "source": [
    "name = input()"
   ]
  },
  {
   "attachments": {},
   "cell_type": "markdown",
   "metadata": {},
   "source": [
    "<h6>please enter your ID number:</h6>"
   ]
  },
  {
   "cell_type": "code",
   "execution_count": 6,
   "metadata": {},
   "outputs": [
    {
     "name": "stdout",
     "output_type": "stream",
     "text": [
      "\n"
     ]
    }
   ],
   "source": [
    "ID = input()"
   ]
  },
  {
   "attachments": {},
   "cell_type": "markdown",
   "metadata": {},
   "source": [
    "<h6>please enter you birth date in this format(dd/mm/yyyy):</h6>"
   ]
  },
  {
   "cell_type": "code",
   "execution_count": 7,
   "metadata": {},
   "outputs": [
    {
     "name": "stdout",
     "output_type": "stream",
     "text": [
      "\n"
     ]
    }
   ],
   "source": [
    "BD = input()"
   ]
  },
  {
   "attachments": {},
   "cell_type": "markdown",
   "metadata": {},
   "source": [
    "<h6>please enter your balance in US$:</h6>"
   ]
  },
  {
   "cell_type": "code",
   "execution_count": 143,
   "metadata": {},
   "outputs": [],
   "source": [
    "Balance = int(input())"
   ]
  },
  {
   "attachments": {},
   "cell_type": "markdown",
   "metadata": {},
   "source": [
    "<h3>Thanks for your registration, now you have access to trade in Stock market</h3>"
   ]
  },
  {
   "attachments": {},
   "cell_type": "markdown",
   "metadata": {},
   "source": [
    "\n",
    "# <span style=\"color:red\"> * Stock market portfolio<span>"
   ]
  },
  {
   "attachments": {},
   "cell_type": "markdown",
   "metadata": {},
   "source": [
    "## To buy shares:"
   ]
  },
  {
   "cell_type": "code",
   "execution_count": 145,
   "metadata": {},
   "outputs": [
    {
     "name": "stdout",
     "output_type": "stream",
     "text": [
      "Your Balance is : 10000$\n",
      "You have successfully bought 2 share from AMZN, your new Balance is: 6187.02001953125$\n"
     ]
    }
   ],
   "source": [
    "print(f'Your Balance is : {Balance}$')\n",
    "pick = int(input('''to buy shares, please enter the ticker's number:\n",
    "1- AMZN\n",
    "2- FB\n",
    "3- TSLA\n",
    "4- GOOGL\n",
    "5- AAPL\n",
    "'''))\n",
    "\n",
    "for i, j in enumerate(tlist[pick-1]['Date']):\n",
    "    if j == '2020-03-02':\n",
    "        curr_price[tickers[pick-1]] = list(tlist[pick-1]['Open'])[i] \n",
    "        break\n",
    "\n",
    "for i, j in enumerate(tickers):\n",
    "    latest_price[j] = list(tlist[i]['Open'])[-1]\n",
    "    second_to_latest[j] = list(tlist[i]['Open'])[-2]\n",
    "    \n",
    "to_buy = int(input(f'{tickers[pick-1]} price is {curr_price[tickers[pick-1]]}$ per share, how many shares do you want to buy?'))\n",
    "\n",
    "if(to_buy * curr_price[tickers[pick-1]] > Balance):\n",
    "    print(\"Insufficient Balance\")\n",
    "else:\n",
    "    Balance -= to_buy * curr_price[tickers[pick-1]]\n",
    "    \n",
    "    if tickers[pick-1] in user_shares.keys():\n",
    "        user_shares[tickers[pick-1]] += to_buy\n",
    "    else:\n",
    "        user_shares[tickers[pick-1]] = to_buy\n",
    "    \n",
    "    print(f'You have successfully bought {to_buy} share from {tickers[pick-1]}, your new Balance is: {Balance}$')\n",
    "        "
   ]
  },
  {
   "attachments": {},
   "cell_type": "markdown",
   "metadata": {},
   "source": [
    "## To sell shares:"
   ]
  },
  {
   "cell_type": "code",
   "execution_count": 13,
   "metadata": {},
   "outputs": [
    {
     "name": "stdout",
     "output_type": "stream",
     "text": [
      "Your Shares are listed Below:\n",
      "to sell shares, please enter the ticker's number:\n",
      "1- AMZN\n",
      "2- FB\n",
      "3- TSLA\n",
      "4- GOOGL\n",
      "5- AAPL\n",
      "1\n",
      "You do not have any AMZN shares in your portfolio!\n"
     ]
    }
   ],
   "source": [
    "d = {'Shares': list(user_shares.keys()), 'Quantities': list(user_shares.values())}\n",
    "df2 = pd.DataFrame(data=d)\n",
    "ins = list(df2['Quantities'])\n",
    "df2 = df2.set_index('Quantities')\n",
    "\n",
    "if 0 in ins:\n",
    "    df2 = df2.drop(0)\n",
    "df2 = df2.reset_index()\n",
    "\n",
    "print(f'Your Shares are listed Below:')\n",
    "if len(df2):\n",
    "    print(df2.to_markdown())\n",
    "\n",
    "pick = int(input('''to sell shares, please enter the ticker's number:\n",
    "1- AMZN\n",
    "2- FB\n",
    "3- TSLA\n",
    "4- GOOGL\n",
    "5- AAPL\n",
    "'''))\n",
    "\n",
    "if tickers[pick-1] in user_shares.keys() and user_shares[tickers[pick-1]] != 0:   \n",
    "    to_sell = int(input(f'{tickers[pick-1]} price is {latest_price[tickers[pick-1]]} per share and you have {user_shares[tickers[pick-1]]} shares, how many shares of yours do you want to sell?'))\n",
    "\n",
    "    if(to_sell > int(user_shares[tickers[pick-1]])):\n",
    "        print(\"Insufficient Shares!\")\n",
    "    else:\n",
    "        user_shares[tickers[pick-1]] -= to_sell\n",
    "        Balance += to_sell * latest_price[tickers[pick-1]]\n",
    "        print(f'You have successfully sold {to_sell} shares of {tickers[pick-1]}, your new Balance is: {Balance}')\n",
    "else:\n",
    "    print(f'You do not have any {tickers[pick-1]} shares in your portfolio!')"
   ]
  },
  {
   "attachments": {},
   "cell_type": "markdown",
   "metadata": {},
   "source": [
    "## To check charts:"
   ]
  },
  {
   "cell_type": "code",
   "execution_count": 151,
   "metadata": {},
   "outputs": [
    {
     "data": {
      "image/png": "[encoded data removed]",
      "text/plain": [
       "<Figure size 1600x1000 with 2 Axes>"
      ]
     },
     "metadata": {},
     "output_type": "display_data"
    }
   ],
   "source": [
    "num = int(input('''To check the charts, please enter the ticker's number:\n",
    "1- AMZN\n",
    "2- FB\n",
    "3- TSLA\n",
    "4- GOOGL\n",
    "5- AAPL\n",
    "'''))\n",
    "\n",
    "if num in range(1,6):\n",
    "    df = pd.DataFrame()\n",
    "    df['Open'] = tlist[num-1]['Open']\n",
    "    df.index = [datetime.strptime(x, \"%Y-%m-%d\") for x in list(tlist[num-1]['Date'])]\n",
    "    df.index = df.index.map(pd.Timestamp.toordinal)\n",
    "    data=df.loc[:].reset_index()    \n",
    "         \n",
    "    xax = list(tlist[num-1]['Date'])\n",
    "    yax = list(tlist[num-1]['Open'])\n",
    "    vol = list(tlist[num-1]['Volume'])\n",
    "    xs = [datetime.strptime(x, \"%Y-%m-%d\") for x in xax]\n",
    "    \n",
    "    plt.figure(figsize=(16, 10))\n",
    "    plt.subplot2grid((5, 4), (0, 0), rowspan=3, colspan=4)\n",
    "    plt.plot(xs, yax)\n",
    "    sns.regplot(data=data, x='index', y='Open',color='magenta', scatter_kws={'s': 7}, label='Linear Regression', scatter=False)\n",
    "    plt.grid(axis='y')\n",
    "    plt.ylabel('Price', fontsize=15)\n",
    "    plt.legend()\n",
    "    plt.subplot2grid((5,4), (3,0), rowspan=1, colspan=4)\n",
    "    plt.plot(xs, vol)\n",
    "    sns.regplot(data=data, x='index', y='Open',color='white', scatter_kws={'s': 7}, label='Linear Model', scatter=False)\n",
    "    plt.ylabel('Volume', fontsize = 13)\n",
    "    plt.xlabel('Year', fontsize = 18)\n",
    "    plt.tight_layout()\n",
    "    plt.show()\n",
    "\n",
    "else:\n",
    "    print(\"Wrong ticker number!\")"
   ]
  },
  {
   "attachments": {},
   "cell_type": "markdown",
   "metadata": {},
   "source": [
    "## To check user shares list:"
   ]
  },
  {
   "cell_type": "code",
   "execution_count": 146,
   "metadata": {},
   "outputs": [
    {
     "name": "stdout",
     "output_type": "stream",
     "text": [
      "|    | Ticker   |   Quantity |   Profit percentage |   Profit in US$ |   Value in $ |\n",
      "|---:|:---------|-----------:|--------------------:|----------------:|-------------:|\n",
      "|  0 | AMZN     |          2 |             14.4186 |          274.89 |      4362.76 |\n"
     ]
    }
   ],
   "source": [
    "profit = pd.DataFrame(user_shares.items())\n",
    "\n",
    "profit.columns = ['Ticker', 'Quantity']\n",
    "profit['Profit percentage'] = [(latest_price[i] - curr_price[i]) * 100 /  curr_price[i]  for i in user_shares.keys()]\n",
    "profit['Profit in US$'] = [latest_price[i] - curr_price[i]  for i in user_shares.keys()] \n",
    "profit['Value in US$'] = [tp[i] * user_shares[i] for i in user_shares.keys()]\n",
    "profit = profit[profit['Quantity'] != 0]\n",
    "\n",
    "print(profit.to_markdown())"
   ]
  },
  {
   "attachments": {},
   "cell_type": "markdown",
   "metadata": {},
   "source": [
    "## To check market shares list:"
   ]
  },
  {
   "cell_type": "code",
   "execution_count": 150,
   "metadata": {},
   "outputs": [
    {
     "name": "stdout",
     "output_type": "stream",
     "text": [
      "|    | Ticker   |   24h change in % |   Value in US$ |\n",
      "|---:|:---------|------------------:|---------------:|\n",
      "|  0 | AMZN     |           6.14987 |        2181.38 |\n",
      "|  1 | FB       |           2.95093 |         192.58 |\n",
      "|  2 | TSLA     |          10.3395  |         773.48 |\n",
      "|  3 | GOOGL    |           2.83315 |        2290.66 |\n",
      "|  4 | AAPL     |           1.27477 |         144.59 |\n"
     ]
    }
   ],
   "source": [
    "ratio = pd.DataFrame()\n",
    "\n",
    "ratio['Ticker'] = tickers\n",
    "ratio['24h change in %'] = [(latest_price[i] * 100 / second_to_latest[i]) - 100 for i in tickers]\n",
    "ratio['Value in US$'] = [tp[i] for i in tickers]\n",
    "\n",
    "print(ratio.to_markdown())"
   ]
  },
  {
   "cell_type": "code",
   "execution_count": null,
   "metadata": {},
   "outputs": [],
   "source": []
  }
 ],
 "metadata": {
  "kernelspec": {
   "display_name": "Python 3",
   "language": "python",
   "name": "python3"
  },
  "language_info": {
   "codemirror_mode": {
    "name": "ipython",
    "version": 3
   },
   "file_extension": ".py",
   "mimetype": "text/x-python",
   "name": "python",
   "nbconvert_exporter": "python",
   "pygments_lexer": "ipython3",
   "version": "3.11.4"
  }
 },
 "nbformat": 4,
 "nbformat_minor": 4
}
