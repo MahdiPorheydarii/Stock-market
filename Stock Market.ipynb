{
 "cells": [
  {
   "cell_type": "code",
   "execution_count": null,
   "metadata": {},
   "outputs": [],
   "source": [
    "import numpy as np\n",
    "import pandas as pd\n",
    "import matplotlib.pyplot as plt\n",
    "import yfinance as yf\n",
    "from datetime import datetime\n",
    "import plotly.express as px"
   ]
  },
  {
   "cell_type": "code",
   "execution_count": null,
   "metadata": {},
   "outputs": [],
   "source": [
    "### DATA IMPORT ###\n",
    "Data = pd.read_csv('First Project/stock_market_data.csv')\n",
    "AMZN = Data[:3119]\n",
    "FB = Data[3119:6238]\n",
    "TSLA = Data[3119:9357]\n",
    "GOOGL = Data[9357:12476]\n",
    "AAPL = Data[12476:]\n",
    "tlist = [AMZN, FB, TSLA, GOOGL, AAPL]\n",
    "tickers = ['AMZN', 'FB', 'TSLA', 'GOOGL', 'AAPL']"
   ]
  },
  {
   "cell_type": "code",
   "execution_count": null,
   "metadata": {},
   "outputs": [],
   "source": [
    "### USER DATABASE ###\n",
    "user_shares = {}"
   ]
  },
  {
   "attachments": {},
   "cell_type": "markdown",
   "metadata": {},
   "source": [
    "Welcome to NYSE Stock market, please sign up to continue:"
   ]
  },
  {
   "attachments": {},
   "cell_type": "markdown",
   "metadata": {},
   "source": [
    "please enter your first name and last name:"
   ]
  },
  {
   "cell_type": "code",
   "execution_count": null,
   "metadata": {},
   "outputs": [],
   "source": [
    "name = input()"
   ]
  },
  {
   "attachments": {},
   "cell_type": "markdown",
   "metadata": {},
   "source": [
    "please enter your ID number:"
   ]
  },
  {
   "cell_type": "code",
   "execution_count": null,
   "metadata": {},
   "outputs": [],
   "source": [
    "ID = input()"
   ]
  },
  {
   "attachments": {},
   "cell_type": "markdown",
   "metadata": {},
   "source": [
    "please enter you birth date in this format(dd/mm/yyyy):"
   ]
  },
  {
   "cell_type": "code",
   "execution_count": null,
   "metadata": {},
   "outputs": [],
   "source": [
    "BD = input()"
   ]
  },
  {
   "attachments": {},
   "cell_type": "markdown",
   "metadata": {},
   "source": [
    "please enter your balance in US$:"
   ]
  },
  {
   "cell_type": "code",
   "execution_count": null,
   "metadata": {},
   "outputs": [],
   "source": [
    "Balance = int(input())"
   ]
  },
  {
   "attachments": {},
   "cell_type": "markdown",
   "metadata": {},
   "source": [
    "Thanks for your registration, now you have access to trade in Stock market"
   ]
  },
  {
   "attachments": {},
   "cell_type": "markdown",
   "metadata": {},
   "source": [
    "to buy shares:"
   ]
  },
  {
   "cell_type": "code",
   "execution_count": null,
   "metadata": {},
   "outputs": [],
   "source": [
    "print(f'Your Balance is : {Balance}')\n",
    "pick = int(input('''to buy shares, please enter the ticker's number:\n",
    "1- AMZN\n",
    "2- FB\n",
    "3- TSLA\n",
    "4- GOOGL\n",
    "5- AAPL\n",
    "'''))\n",
    "curr_price = list(tlist[pick-1]['Open'])[-1]\n",
    "to_buy = float(input(f'{tickers[pick-1]} price is {curr_price} per share, how many shares do you want to buy?'))\n",
    "if(to_buy * curr_price > Balance):\n",
    "    print(\"Insufficient Balance\")\n",
    "else:\n",
    "    Balance -= to_buy * curr_price\n",
    "    if tickers[pick-1] in user_shares.keys():\n",
    "        user_shares[tickers[pick-1]] += to_buy\n",
    "    else:\n",
    "        user_shares[tickers[pick-1]] = to_buy\n",
    "    print(f'You have successfully buy {to_buy} shares of {tickers[pick-1]}, your new Balance is : {Balance}')\n",
    "        "
   ]
  },
  {
   "attachments": {},
   "cell_type": "markdown",
   "metadata": {},
   "source": [
    "to sell shares:"
   ]
  },
  {
   "cell_type": "code",
   "execution_count": null,
   "metadata": {},
   "outputs": [],
   "source": [
    "d = {'Shares': list(user_shares.keys()), 'Quantities': list(user_shares.values())}\n",
    "df2 = pd.DataFrame(data=d)\n",
    "print(df2)\n",
    "print(f'Your Shares are listed Below :')\n",
    "pick = int(input('''to sell shares, please enter the ticker's number:\n",
    "1- AMZN\n",
    "2- FB\n",
    "3- TSLA\n",
    "4- GOOGL\n",
    "5- AAPL\n",
    "'''))\n",
    "if tickers[pick-1] in user_shares.keys():   \n",
    "    curr_price = list(tlist[pick-1]['Open'])[-1]\n",
    "    to_sell = float(input(f'{tickers[pick-1]} price is {curr_price} per share and you have {user_shares[tickers[pick-1]]} shares, how many shares of yours do you want to sell?'))\n",
    "    if(to_sell > float(user_shares[tickers[pick-1]])):\n",
    "        print(\"Insufficient Shares!\")\n",
    "    else:\n",
    "        user_shares[tickers[pick-1]] -= to_sell\n",
    "        Balance += to_sell * curr_price\n",
    "        print(f'You have successfully sell {to_sell} shares of {tickers[pick-1]}, your new Balance is : {Balance}')\n",
    "else:\n",
    "    print(f'You do not have any {tickers[pick-1]} shares in your portfolio!')\n",
    "        "
   ]
  },
  {
   "attachments": {},
   "cell_type": "markdown",
   "metadata": {},
   "source": [
    "to check charts:"
   ]
  },
  {
   "cell_type": "code",
   "execution_count": null,
   "metadata": {},
   "outputs": [],
   "source": [
    "num = int(input('''to check the charts, please enter the ticker's number:\n",
    "1- AMZN\n",
    "2- FB\n",
    "3- TSLA\n",
    "4- GOOGL\n",
    "5- AAPL\n",
    "'''))\n",
    "if num in range(1,6):\n",
    "    fig = px.line(tlist[num-1], x = 'Date', y = 'Open', title=f'{tickers[num-1]} Share Prices')\n",
    "    fig.show()\n",
    "    xax = list(tlist[num-1]['Date'])\n",
    "    yax = list(tlist[num-1]['Open'])\n",
    "    xs = [datetime.strptime(x, \"%Y-%m-%d\") for x in xax]\n",
    "    plt.plot(xs, yax)\n",
    "    plt.show()\n",
    "else:\n",
    "    print(\"Wrong ticker number!\")"
   ]
  },
  {
   "cell_type": "code",
   "execution_count": null,
   "metadata": {},
   "outputs": [],
   "source": []
  }
 ],
 "metadata": {
  "kernelspec": {
   "display_name": "Python 3",
   "language": "python",
   "name": "python3"
  },
  "language_info": {
   "codemirror_mode": {
    "name": "ipython",
    "version": 3
   },
   "file_extension": ".py",
   "mimetype": "text/x-python",
   "name": "python",
   "nbconvert_exporter": "python",
   "pygments_lexer": "ipython3",
   "version": "3.7.6"
  }
 },
 "nbformat": 4,
 "nbformat_minor": 4
}
