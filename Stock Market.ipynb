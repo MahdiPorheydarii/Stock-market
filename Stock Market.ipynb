{
 "cells": [
  {
   "cell_type": "markdown",
   "metadata": {},
   "source": [
    "# <span style=\"color:red\"> * Libraries Import<span>"
   ]
  },
  {
   "cell_type": "code",
   "execution_count": 1,
   "metadata": {},
   "outputs": [],
   "source": [
    "import numpy as np\n",
    "import pandas as pd\n",
    "import matplotlib.pyplot as plt\n",
    "import yfinance as yf\n",
    "from datetime import datetime\n",
    "import plotly.express as px\n",
    "import matplotlib.ticker as ticker\n",
    "import seaborn as sns\n",
    "from sklearn.linear_model import LinearRegression"
   ]
  },
  {
   "cell_type": "markdown",
   "metadata": {},
   "source": [
    "\n",
    "# <span style=\"color:red\"> * Read Data<span>"
   ]
  },
  {
   "cell_type": "code",
   "execution_count": 2,
   "metadata": {},
   "outputs": [],
   "source": [
    "Data = pd.read_csv('stock_market_data.csv')\n",
    "AMZN = Data[Data['Symbol'] == 'AMZN']\n",
    "FB = Data[Data['Symbol'] == 'FB']\n",
    "TSLA = Data[Data['Symbol'] == 'TSLA']\n",
    "GOOGL = Data[Data['Symbol'] == 'GOOGL']\n",
    "AAPL = Data[Data['Symbol'] == 'AAPL']"
   ]
  },
  {
   "cell_type": "code",
   "execution_count": 3,
   "metadata": {},
   "outputs": [],
   "source": [
    "### USER DATABASE ###\n",
    "user_shares = {}\n",
    "curr_price = {}\n",
    "latest_price = {}\n",
    "second_to_latest = {}"
   ]
  },
  {
   "cell_type": "markdown",
   "metadata": {},
   "source": [
    "\n",
    "# <span style=\"color:red\"> * Shares settings<span>"
   ]
  },
  {
   "cell_type": "code",
   "execution_count": 4,
   "metadata": {},
   "outputs": [],
   "source": [
    "tlist = [AMZN, FB, TSLA, GOOGL, AAPL]\n",
    "tickers = ['AMZN', 'FB', 'TSLA', 'GOOGL', 'AAPL']\n",
    "tp = {'AMZN' : list(AMZN['Open'])[-1], 'FB' : list(FB['Open'])[-1], 'TSLA' : list(TSLA['Open'])[-1], 'GOOGL': list(GOOGL['Open'])[-1], 'AAPL': list(AAPL['Open'])[-1]}"
   ]
  },
  {
   "cell_type": "markdown",
   "metadata": {},
   "source": [
    "# <span style=\"color:red\"> * Classes<span>"
   ]
  },
  {
   "cell_type": "code",
   "execution_count": 5,
   "metadata": {},
   "outputs": [],
   "source": [
    "class User:\n",
    "\n",
    "    def __init__(self, name, ID, BD, Balance):\n",
    "        self.name = name\n",
    "        self.ID = ID\n",
    "        self.BD = BD\n",
    "        self.Balance = Balance\n",
    "        self.shares = {}\n",
    "\n",
    "    def buy(self, ticker, curr_price):\n",
    "        \n",
    "        to_buy = int(input(f'{ticker} price is {curr_price[ticker]}$ per share, how many shares do you want to buy?'))\n",
    "\n",
    "        if(to_buy * curr_price[ticker] > self.Balance):\n",
    "            print(\"Insufficient Balance\")\n",
    "\n",
    "        else:\n",
    "            self.Balance -= curr_price[ticker] * to_buy\n",
    "\n",
    "            if ticker not in self.shares.keys():\n",
    "                self.shares[ticker] = to_buy\n",
    "            else:\n",
    "                self.shares[ticker] += to_buy\n",
    "\n",
    "            print(f'You have successfully bought {to_buy} share from {ticker}, your new Balance is: {self.Balance}$')\n",
    "\n",
    "    def sell(self, ticker, latest_price):\n",
    "            \n",
    "        to_sell = int(input(f'{ticker} price is {latest_price[ticker]} per share and you have {self.shares[ticker]} shares, how many shares of yours do you want to sell?'))\n",
    "\n",
    "        if ticker in self.shares.keys() and self.shares[ticker] != 0:   \n",
    "            if(to_sell > int(self.shares[ticker])):\n",
    "                print(\"Insufficient Shares!\")\n",
    "\n",
    "            else:\n",
    "                self.Balance += latest_price[ticker] * to_sell\n",
    "                self.shares[ticker] -= to_sell\n",
    "\n",
    "                print(f'You have successfully sold {to_sell} shares of {ticker}, your new Balance is: {self.Balance}')\n",
    "        \n",
    "        else:\n",
    "            print(f'You do not have any {ticker} shares in your portfolio!')\n"
   ]
  },
  {
   "cell_type": "markdown",
   "metadata": {},
   "source": [
    "<h3> Welcome to NYSE Stock market, please sign up to continue: </h3>"
   ]
  },
  {
   "cell_type": "markdown",
   "metadata": {},
   "source": [
    "<h6> please enter your first name and last name: </h6>"
   ]
  },
  {
   "cell_type": "code",
   "execution_count": 7,
   "metadata": {},
   "outputs": [
    {
     "name": "stdin",
     "output_type": "stream",
     "text": [
      " \n"
     ]
    }
   ],
   "source": [
    "name = input()"
   ]
  },
  {
   "cell_type": "markdown",
   "metadata": {},
   "source": [
    "<h6>please enter your ID number:</h6>"
   ]
  },
  {
   "cell_type": "code",
   "execution_count": 8,
   "metadata": {},
   "outputs": [
    {
     "name": "stdin",
     "output_type": "stream",
     "text": [
      " 123\n"
     ]
    }
   ],
   "source": [
    "ID = input()"
   ]
  },
  {
   "cell_type": "markdown",
   "metadata": {},
   "source": [
    "<h6>please enter you birth date in this format(dd/mm/yyyy):</h6>"
   ]
  },
  {
   "cell_type": "code",
   "execution_count": 9,
   "metadata": {},
   "outputs": [
    {
     "name": "stdin",
     "output_type": "stream",
     "text": [
      " 123\n"
     ]
    }
   ],
   "source": [
    "BD = input()"
   ]
  },
  {
   "cell_type": "markdown",
   "metadata": {},
   "source": [
    "<h6>please enter your balance in US$:</h6>"
   ]
  },
  {
   "cell_type": "code",
   "execution_count": 10,
   "metadata": {},
   "outputs": [
    {
     "name": "stdin",
     "output_type": "stream",
     "text": [
      " 25000\n"
     ]
    }
   ],
   "source": [
    "Balance = int(input())"
   ]
  },
  {
   "cell_type": "markdown",
   "metadata": {},
   "source": [
    "<h6>New user:</h6>"
   ]
  },
  {
   "cell_type": "code",
   "execution_count": 14,
   "metadata": {},
   "outputs": [],
   "source": [
    "user = User(name, ID, BD, Balance)"
   ]
  },
  {
   "cell_type": "markdown",
   "metadata": {},
   "source": [
    "<h3>Thanks for your registration, now you have access to trade in Stock market</h3>"
   ]
  },
  {
   "cell_type": "markdown",
   "metadata": {},
   "source": [
    "\n",
    "# <span style=\"color:red\"> * Stock market portfolio<span>"
   ]
  },
  {
   "cell_type": "markdown",
   "metadata": {},
   "source": [
    "## Prices settings:"
   ]
  },
  {
   "cell_type": "code",
   "execution_count": 5,
   "metadata": {},
   "outputs": [],
   "source": [
    "for ticker in range(4):\n",
    "    for i, j in enumerate(tlist[ticker]['Date']):\n",
    "        if j == '2020-03-02':\n",
    "            curr_price[tickers[ticker]] = list(tlist[ticker]['Open'])[i] \n",
    "            break\n",
    "\n",
    "for i, j in enumerate(tickers):\n",
    "    latest_price[j] = list(tlist[i]['Open'])[-1]\n",
    "    second_to_latest[j] = list(tlist[i]['Open'])[-2]"
   ]
  },
  {
   "cell_type": "markdown",
   "metadata": {},
   "source": [
    "## To buy shares:"
   ]
  },
  {
   "cell_type": "code",
   "execution_count": 17,
   "metadata": {},
   "outputs": [
    {
     "name": "stdout",
     "output_type": "stream",
     "text": [
      "Your Balance is : 25000$\n"
     ]
    },
    {
     "name": "stdin",
     "output_type": "stream",
     "text": [
      "to buy shares, please enter the ticker's number:\n",
      "1- AMZN\n",
      "2- FB\n",
      "3- TSLA\n",
      "4- GOOGL\n",
      "5- AAPL\n",
      " 1\n",
      "AMZN price is 1906.489990234375$ per share, how many shares do you want to buy? 1\n"
     ]
    },
    {
     "name": "stdout",
     "output_type": "stream",
     "text": [
      "You have successfully bought 1 share from AMZN, your new Balance is: 22705.45001220703$\n"
     ]
    }
   ],
   "source": [
    "print(f'Your Balance is : {Balance}$')\n",
    "pick = int(input('''to buy shares, please enter the ticker's number:\n",
    "1- AMZN\n",
    "2- FB\n",
    "3- TSLA\n",
    "4- GOOGL\n",
    "5- AAPL\n",
    "'''))\n",
    "\n",
    "ticker = tickers[pick-1]     \n",
    "\n",
    "user.buy(ticker, curr_price)\n",
    "    \n",
    "        "
   ]
  },
  {
   "cell_type": "markdown",
   "metadata": {},
   "source": [
    "## To sell shares:"
   ]
  },
  {
   "cell_type": "code",
   "execution_count": 21,
   "metadata": {},
   "outputs": [
    {
     "name": "stdout",
     "output_type": "stream",
     "text": [
      "Your Shares are listed Below:\n",
      "|    |   Quantity | Ticker   |\n",
      "|---:|-----------:|:---------|\n",
      "|  0 |          2 | FB       |\n",
      "|  1 |          1 | AMZN     |\n"
     ]
    },
    {
     "name": "stdin",
     "output_type": "stream",
     "text": [
      "to sell shares, please enter the ticker's number:\n",
      "1- AMZN\n",
      "2- FB\n",
      "3- TSLA\n",
      "4- GOOGL\n",
      "5- AAPL\n",
      " 5\n"
     ]
    },
    {
     "name": "stdout",
     "output_type": "stream",
     "text": [
      "you do not have such a share to sell!\n"
     ]
    }
   ],
   "source": [
    "d = {'Ticker': list(user.shares.keys()), 'Quantity': list(user.shares.values())}\n",
    "df2 = pd.DataFrame(data=d)\n",
    "ins = list(df2['Quantity'])\n",
    "df2 = df2.set_index('Quantity')\n",
    "\n",
    "if 0 in ins:\n",
    "    df2 = df2.drop(0)\n",
    "df2 = df2.reset_index()\n",
    "\n",
    "print(f'Your Shares are listed Below:')\n",
    "if len(df2):\n",
    "    print(df2.to_markdown())\n",
    "\n",
    "pick = int(input('''to sell shares, please enter the ticker's number:\n",
    "1- AMZN\n",
    "2- FB\n",
    "3- TSLA\n",
    "4- GOOGL\n",
    "5- AAPL\n",
    "'''))\n",
    "\n",
    "if tickers[pick - 1] in user.shares.keys():\n",
    "    ticker = tickers[pick - 1]\n",
    "    user.sell(ticker, latest_price)\n",
    "else:\n",
    "    print(\"you do not have such a share to sell!\")"
   ]
  },
  {
   "cell_type": "markdown",
   "metadata": {},
   "source": [
    "## To check charts:"
   ]
  },
  {
   "cell_type": "code",
   "execution_count": 6,
   "metadata": {},
   "outputs": [
    {
     "name": "stdout",
     "output_type": "stream",
     "text": [
      "To check the charts, please enter the ticker's number:\n",
      "1- AMZN\n",
      "2- FB\n",
      "3- TSLA\n",
      "4- GOOGL\n",
      "5- AAPL\n",
      "1\n"
     ]
    },
    {
     "data": {
      "image/png": "[encoded data removed]",
      "text/plain": [
       "<Figure size 1152x720 with 2 Axes>"
      ]
     },
     "metadata": {
      "needs_background": "light"
     },
     "output_type": "display_data"
    }
   ],
   "source": [
    "num = int(input('''To check the charts, please enter the ticker's number:\n",
    "1- AMZN\n",
    "2- FB\n",
    "3- TSLA\n",
    "4- GOOGL\n",
    "5- AAPL\n",
    "'''))\n",
    "\n",
    "if num in range(1,6):\n",
    "    df = pd.DataFrame()\n",
    "    df['Open'] = tlist[num-1]['Open']\n",
    "    df.index = [datetime.strptime(x, \"%Y-%m-%d\") for x in list(tlist[num-1]['Date'])]\n",
    "    df.index = df.index.map(pd.Timestamp.toordinal)\n",
    "    data=df.loc[:].reset_index()    \n",
    "         \n",
    "    xax = list(tlist[num-1]['Date'])\n",
    "    yax = list(tlist[num-1]['Open'])\n",
    "    vol = list(tlist[num-1]['Volume'])\n",
    "    xs = [datetime.strptime(x, \"%Y-%m-%d\") for x in xax]\n",
    "    \n",
    "    plt.figure(figsize=(16, 10))\n",
    "    plt.subplot2grid((5, 4), (0, 0), rowspan=3, colspan=4)\n",
    "    plt.plot(xs, yax)\n",
    "    plt.title(f'{tickers[num-1]} price chart')\n",
    "    sns.regplot(data=data, x='index', y='Open',color='magenta', scatter_kws={\"color\" : \"white\"}, label='Linear Regression', scatter=True)\n",
    "    plt.grid(axis='y')\n",
    "    plt.ylabel('Price', fontsize=15)\n",
    "    plt.legend()\n",
    "    plt.subplot2grid((5,4), (3,0), rowspan=1, colspan=4)\n",
    "    plt.plot(xs, vol)\n",
    "    plt.title(f'{tickers[num-1]} volume chart') \n",
    "    sns.regplot(data=data, x='index', y='Open',color='white', scatter_kws={\"color\" : \"white\"}, label='Linear Model', scatter=True)\n",
    "    plt.ylabel('Volume', fontsize = 13)\n",
    "    plt.xlabel('Year', fontsize = 18)\n",
    "    plt.tight_layout()\n",
    "    plt.show()\n",
    "\n",
    "else:\n",
    "    print(\"Wrong ticker number!\")"
   ]
  },
  {
   "cell_type": "markdown",
   "metadata": {},
   "source": [
    "## To check user shares list:"
   ]
  },
  {
   "cell_type": "code",
   "execution_count": 23,
   "metadata": {},
   "outputs": [
    {
     "name": "stdout",
     "output_type": "stream",
     "text": [
      "|    | Ticker   |   Quantity |   Profit percentage |   Profit in US$ |   Value in US$ |\n",
      "|---:|:---------|-----------:|--------------------:|----------------:|---------------:|\n",
      "|  0 | FB       |          2 |           -0.747306 |           -1.45 |         385.16 |\n",
      "|  1 | AMZN     |          1 |           14.4186   |          274.89 |        2181.38 |\n"
     ]
    }
   ],
   "source": [
    "profit = pd.DataFrame(user.shares.items())\n",
    "\n",
    "profit.columns = ['Ticker', 'Quantity']\n",
    "profit['Profit percentage'] = [(latest_price[i] - curr_price[i]) * 100 /  curr_price[i]  for i in user.shares.keys()]\n",
    "profit['Profit in US$'] = [latest_price[i] - curr_price[i]  for i in user.shares.keys()] \n",
    "profit['Value in US$'] = [tp[i] * user.shares[i] for i in user.shares.keys()]\n",
    "profit = profit[profit['Quantity'] != 0]\n",
    "\n",
    "print(profit.to_markdown())"
   ]
  },
  {
   "cell_type": "markdown",
   "metadata": {},
   "source": [
    "## To check market shares list:"
   ]
  },
  {
   "cell_type": "code",
   "execution_count": 25,
   "metadata": {},
   "outputs": [
    {
     "name": "stdout",
     "output_type": "stream",
     "text": [
      "|    | Ticker   |   24h change in % |   Value in US$ |\n",
      "|---:|:---------|------------------:|---------------:|\n",
      "|  0 | TSLA     |          10.3395  |         773.48 |\n",
      "|  1 | AMZN     |           6.14987 |        2181.38 |\n",
      "|  2 | FB       |           2.95093 |         192.58 |\n",
      "|  3 | GOOGL    |           2.83315 |        2290.66 |\n",
      "|  4 | AAPL     |           1.27477 |         144.59 |\n"
     ]
    }
   ],
   "source": [
    "ratio = pd.DataFrame()\n",
    "\n",
    "sorted_ratio = {}\n",
    "for i in tickers:\n",
    "    sorted_ratio[i] = (latest_price[i] * 100 / second_to_latest[i]) - 100 \n",
    "\n",
    "sorted_ratio = dict(sorted(sorted_ratio.items(), key = lambda x:x[1], reverse = True))\n",
    "\n",
    "ratio['Ticker'] = sorted_ratio.keys()\n",
    "ratio['24h change in %'] = sorted_ratio.values()\n",
    "ratio['Value in US$'] = [tp[i] for i in sorted_ratio.keys()]\n",
    "\n",
    "print(ratio.to_markdown())"
   ]
  }
 ],
 "metadata": {
  "kernelspec": {
   "display_name": "Python 3",
   "language": "python",
   "name": "python3"
  },
  "language_info": {
   "codemirror_mode": {
    "name": "ipython",
    "version": 3
   },
   "file_extension": ".py",
   "mimetype": "text/x-python",
   "name": "python",
   "nbconvert_exporter": "python",
   "pygments_lexer": "ipython3",
   "version": "3.7.6"
  }
 },
 "nbformat": 4,
 "nbformat_minor": 4
}
