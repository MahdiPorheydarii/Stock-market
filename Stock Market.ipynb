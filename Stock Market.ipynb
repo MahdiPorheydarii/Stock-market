{
 "cells": [
  {
   "cell_type": "code",
   "execution_count": 1,
   "metadata": {},
   "outputs": [],
   "source": [
    "import numpy as np\n",
    "import pandas as pd\n",
    "import matplotlib.pyplot as plt\n",
    "import yfinance as yf\n",
    "from datetime import datetime\n",
    "import plotly.express as px\n",
    "import matplotlib.ticker as ticker"
   ]
  },
  {
   "cell_type": "markdown",
   "metadata": {},
   "source": [
    "\n",
    "# <span style=\"color:red\"> * Read Data<span>"
   ]
  },
  {
   "cell_type": "code",
   "execution_count": 2,
   "metadata": {},
   "outputs": [],
   "source": [
    "Data = pd.read_csv('stock_market_data.csv')\n",
    "AMZN = Data[:3119]\n",
    "FB = Data[3119:6238]\n",
    "TSLA = Data[6238:9357]\n",
    "GOOGL = Data[9357:12476]\n",
    "AAPL = Data[12476:]"
   ]
  },
  {
   "cell_type": "code",
   "execution_count": 3,
   "metadata": {},
   "outputs": [],
   "source": [
    "### USER DATABASE ###\n",
    "user_shares = {}"
   ]
  },
  {
   "cell_type": "markdown",
   "metadata": {},
   "source": [
    "\n",
    "# <span style=\"color:red\"> * Shares settings<span>"
   ]
  },
  {
   "cell_type": "code",
   "execution_count": 19,
   "metadata": {},
   "outputs": [],
   "source": [
    "tlist = [AMZN, FB, TSLA, GOOGL, AAPL]\n",
    "tickers = ['AMZN', 'FB', 'TSLA', 'GOOGL', 'AAPL']\n",
    "tp = {'AMZN' : list(AMZN['Open'])[-1], 'FB' : list(FB['Open'])[-1], 'TSLA' : list(TSLA['Open'])[-1], 'GOOGL': list(GOOGL['Open'])[-1], 'AAPL': list(AAPL['Open'])[-1]}"
   ]
  },
  {
   "cell_type": "markdown",
   "metadata": {},
   "source": [
    "<h3> Welcome to NYSE Stock market, please sign up to continue: </h3>"
   ]
  },
  {
   "cell_type": "markdown",
   "metadata": {},
   "source": [
    "<h6> please enter your first name and last name: </h6>"
   ]
  },
  {
   "cell_type": "code",
   "execution_count": 4,
   "metadata": {},
   "outputs": [
    {
     "name": "stdout",
     "output_type": "stream",
     "text": [
      "\n"
     ]
    }
   ],
   "source": [
    "name = input()"
   ]
  },
  {
   "cell_type": "markdown",
   "metadata": {},
   "source": [
    "<h6>please enter your ID number:</h6>"
   ]
  },
  {
   "cell_type": "code",
   "execution_count": 5,
   "metadata": {},
   "outputs": [
    {
     "name": "stdout",
     "output_type": "stream",
     "text": [
      "\n"
     ]
    }
   ],
   "source": [
    "ID = input()"
   ]
  },
  {
   "cell_type": "markdown",
   "metadata": {},
   "source": [
    "<h6>please enter you birth date in this format(dd/mm/yyyy):</h6>"
   ]
  },
  {
   "cell_type": "code",
   "execution_count": 6,
   "metadata": {},
   "outputs": [
    {
     "name": "stdout",
     "output_type": "stream",
     "text": [
      "\n"
     ]
    }
   ],
   "source": [
    "BD = input()"
   ]
  },
  {
   "cell_type": "markdown",
   "metadata": {},
   "source": [
    "<h6>please enter your balance in US$:</h6>"
   ]
  },
  {
   "cell_type": "code",
   "execution_count": 7,
   "metadata": {},
   "outputs": [
    {
     "name": "stdout",
     "output_type": "stream",
     "text": [
      "250000\n"
     ]
    }
   ],
   "source": [
    "Balance = int(input())"
   ]
  },
  {
   "cell_type": "markdown",
   "metadata": {},
   "source": [
    "<h3>Thanks for your registration, now you have access to trade in Stock market</h3>"
   ]
  },
  {
   "cell_type": "markdown",
   "metadata": {},
   "source": [
    "\n",
    "# <span style=\"color:red\"> * Stock market portfolio<span>"
   ]
  },
  {
   "cell_type": "markdown",
   "metadata": {},
   "source": [
    "## to buy shares:"
   ]
  },
  {
   "cell_type": "code",
   "execution_count": 8,
   "metadata": {},
   "outputs": [
    {
     "name": "stdout",
     "output_type": "stream",
     "text": [
      "Your Balance is : 250000\n",
      "to buy shares, please enter the ticker's number:\n",
      "1- AMZN\n",
      "2- FB\n",
      "3- TSLA\n",
      "4- GOOGL\n",
      "5- AAPL\n",
      "1\n",
      "AMZN price is 2181.3798828125 per share, how many shares do you want to buy?10\n",
      "You have successfully buy 10 shares of AMZN, your new Balance is : 228186.201171875$\n"
     ]
    }
   ],
   "source": [
    "print(f'Your Balance is : {Balance}')\n",
    "pick = int(input('''to buy shares, please enter the ticker's number:\n",
    "1- AMZN\n",
    "2- FB\n",
    "3- TSLA\n",
    "4- GOOGL\n",
    "5- AAPL\n",
    "'''))\n",
    "curr_price = list(tlist[pick-1]['Open'])[-1]\n",
    "to_buy = int(input(f'{tickers[pick-1]} price is {curr_price} per share, how many shares do you want to buy?'))\n",
    "if(to_buy * curr_price > Balance):\n",
    "    print(\"Insufficient Balance\")\n",
    "else:\n",
    "    Balance -= to_buy * curr_price\n",
    "    if tickers[pick-1] in user_shares.keys():\n",
    "        user_shares[tickers[pick-1]] += to_buy\n",
    "    else:\n",
    "        user_shares[tickers[pick-1]] = to_buy\n",
    "    print(f'You have successfully buy {to_buy} shares of {tickers[pick-1]}, your new Balance is : {Balance}$')\n",
    "        "
   ]
  },
  {
   "cell_type": "markdown",
   "metadata": {},
   "source": [
    "## to sell shares:"
   ]
  },
  {
   "cell_type": "code",
   "execution_count": null,
   "metadata": {},
   "outputs": [],
   "source": [
    "d = {'Shares': list(user_shares.keys()), 'Quantities': list(user_shares.values())}\n",
    "df2 = pd.DataFrame(data=d)\n",
    "df2 = df2.set_index('Quantities')\n",
    "df2 = df2.drop(0)\n",
    "df2 = df2.reset_index()\n",
    "if len(df2):\n",
    "    print(df2)\n",
    "print(f'Your Shares are listed Below :')\n",
    "pick = int(input('''to sell shares, please enter the ticker's number:\n",
    "1- AMZN\n",
    "2- FB\n",
    "3- TSLA\n",
    "4- GOOGL\n",
    "5- AAPL\n",
    "'''))\n",
    "if tickers[pick-1] in user_shares.keys() and user_shares[tickers[pick-1]] != 0:   \n",
    "    curr_price = list(tlist[pick-1]['Open'])[-1]\n",
    "    to_sell = int(input(f'{tickers[pick-1]} price is {curr_price} per share and you have {user_shares[tickers[pick-1]]} shares, how many shares of yours do you want to sell?'))\n",
    "    if(to_sell > int(user_shares[tickers[pick-1]])):\n",
    "        print(\"Insufficient Shares!\")\n",
    "    else:\n",
    "        user_shares[tickers[pick-1]] -= to_sell\n",
    "        Balance += to_sell * curr_price\n",
    "        print(f'You have successfully sell {to_sell} shares of {tickers[pick-1]}, your new Balance is : {Balance}')\n",
    "else:\n",
    "    print(f'You do not have any {tickers[pick-1]} shares in your portfolio!')\n",
    "        "
   ]
  },
  {
   "cell_type": "markdown",
   "metadata": {},
   "source": [
    "## to check charts:"
   ]
  },
  {
   "cell_type": "code",
   "execution_count": null,
   "metadata": {},
   "outputs": [],
   "source": [
    "num = int(input('''to check the charts, please enter the ticker's number:\n",
    "1- AMZN\n",
    "2- FB\n",
    "3- TSLA\n",
    "4- GOOGL\n",
    "5- AAPL\n",
    "'''))\n",
    "if num in range(1,6):\n",
    "    xax = list(tlist[num-1]['Date'])\n",
    "    yax = list(tlist[num-1]['Open'])\n",
    "    vol = list(tlist[num-1]['Volume'])\n",
    "    xs = [datetime.strptime(x, \"%Y-%m-%d\") for x in xax]\n",
    "    plt.figure(figsize=(16,10))\n",
    "#     plt.plot(xs, yax, label = 'price', lw=1.5)\n",
    "#     plt.legend()\n",
    "#     plt.title(f'{tickers[num-1]} Chart', fontsize=22)\n",
    "    plt.subplot2grid((5,4), (0, 0), rowspan=3, colspan=4)\n",
    "    plt.plot(xs, yax)\n",
    "    plt.grid(axis='y')\n",
    "    plt.ylabel('Price', fontsize=18)\n",
    "    plt.subplot2grid((5,4), (3,0), rowspan=1, colspan=4)\n",
    "    plt.plot(xs, vol)\n",
    "    plt.ylabel('Volume', fontsize = 15)\n",
    "    plt.xlabel('Year', fontsize=18)\n",
    "    plt.show()\n",
    "else:\n",
    "    print(\"Wrong ticker number!\")"
   ]
  },
  {
   "cell_type": "markdown",
   "metadata": {},
   "source": [
    "## to check shares list:"
   ]
  },
  {
   "cell_type": "code",
   "execution_count": 27,
   "metadata": {},
   "outputs": [
    {
     "name": "stdout",
     "output_type": "stream",
     "text": [
      "|    | Ticker   |   Quantity |   Value in $ |\n",
      "|---:|:---------|-----------:|-------------:|\n",
      "|  0 | AMZN     |         10 |      21813.8 |\n"
     ]
    }
   ],
   "source": [
    "# for i in user_shares:\n",
    "#     print(\"Ticker: \", i , \"|| Quantity:\" ,user_shares[i])\n",
    "df3 = pd.DataFrame(user_shares.items()) \n",
    "df3.columns = ['Ticker', 'Quantity']\n",
    "df3['Value in $'] = [tp[i] * user_shares[i] for i in user_shares.keys()]\n",
    "print(df3.to_markdown())"
   ]
  },
  {
   "cell_type": "code",
   "execution_count": null,
   "metadata": {},
   "outputs": [],
   "source": []
  }
 ],
 "metadata": {
  "kernelspec": {
   "display_name": "Python 3",
   "language": "python",
   "name": "python3"
  },
  "language_info": {
   "codemirror_mode": {
    "name": "ipython",
    "version": 3
   },
   "file_extension": ".py",
   "mimetype": "text/x-python",
   "name": "python",
   "nbconvert_exporter": "python",
   "pygments_lexer": "ipython3",
   "version": "3.7.6"
  }
 },
 "nbformat": 4,
 "nbformat_minor": 4
}
