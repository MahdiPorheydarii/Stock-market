{
 "cells": [
  {
   "cell_type": "code",
   "execution_count": 40,
   "metadata": {},
   "outputs": [],
   "source": [
    "import numpy as np\n",
    "import pandas as pd\n",
    "import matplotlib.pyplot as plt\n",
    "import yfinance as yf\n",
    "from datetime import datetime\n",
    "import plotly.express as px\n",
    "import matplotlib.ticker as ticker"
   ]
  },
  {
   "cell_type": "markdown",
   "metadata": {},
   "source": [
    "\n",
    "# <span style=\"color:red\"> * Read Data<span>"
   ]
  },
  {
   "cell_type": "code",
   "execution_count": 14,
   "metadata": {},
   "outputs": [],
   "source": [
    "Data = pd.read_csv('stock_market_data.csv')\n",
    "AMZN = Data[:3119]\n",
    "FB = Data[3119:6238]\n",
    "TSLA = Data[3119:9357]\n",
    "GOOGL = Data[9357:12476]\n",
    "AAPL = Data[12476:]\n",
    "tlist = [AMZN, FB, TSLA, GOOGL, AAPL]\n",
    "tickers = ['AMZN', 'FB', 'TSLA', 'GOOGL', 'AAPL']"
   ]
  },
  {
   "cell_type": "code",
   "execution_count": 15,
   "metadata": {},
   "outputs": [],
   "source": [
    "### USER DATABASE ###\n",
    "user_shares = {}"
   ]
  },
  {
   "cell_type": "markdown",
   "metadata": {},
   "source": [
    "\n",
    "# <span style=\"color:red\"> * Sign up<span>"
   ]
  },
  {
   "cell_type": "markdown",
   "metadata": {},
   "source": [
    "Welcome to NYSE Stock market, please sign up to continue:"
   ]
  },
  {
   "cell_type": "markdown",
   "metadata": {},
   "source": [
    "please enter your first name and last name:"
   ]
  },
  {
   "cell_type": "code",
   "execution_count": 16,
   "metadata": {},
   "outputs": [
    {
     "name": "stdout",
     "output_type": "stream",
     "text": [
      "\n"
     ]
    }
   ],
   "source": [
    "name = input()"
   ]
  },
  {
   "cell_type": "markdown",
   "metadata": {},
   "source": [
    "please enter your ID number:"
   ]
  },
  {
   "cell_type": "code",
   "execution_count": 17,
   "metadata": {},
   "outputs": [
    {
     "name": "stdout",
     "output_type": "stream",
     "text": [
      "\n"
     ]
    }
   ],
   "source": [
    "ID = input()"
   ]
  },
  {
   "cell_type": "markdown",
   "metadata": {},
   "source": [
    "please enter you birth date in this format(dd/mm/yyyy):"
   ]
  },
  {
   "cell_type": "code",
   "execution_count": 18,
   "metadata": {},
   "outputs": [
    {
     "name": "stdout",
     "output_type": "stream",
     "text": [
      "\n"
     ]
    }
   ],
   "source": [
    "BD = input()"
   ]
  },
  {
   "cell_type": "markdown",
   "metadata": {},
   "source": [
    "please enter your balance in US$:"
   ]
  },
  {
   "cell_type": "code",
   "execution_count": 20,
   "metadata": {},
   "outputs": [
    {
     "name": "stdout",
     "output_type": "stream",
     "text": [
      "12500\n"
     ]
    }
   ],
   "source": [
    "Balance = int(input())"
   ]
  },
  {
   "cell_type": "markdown",
   "metadata": {},
   "source": [
    "Thanks for your registration, now you have access to trade in Stock market"
   ]
  },
  {
   "cell_type": "markdown",
   "metadata": {},
   "source": [
    "\n",
    "# <span style=\"color:red\"> * Stock market portfolio<span>"
   ]
  },
  {
   "cell_type": "markdown",
   "metadata": {},
   "source": [
    "## to buy shares:"
   ]
  },
  {
   "cell_type": "code",
   "execution_count": 72,
   "metadata": {},
   "outputs": [
    {
     "name": "stdout",
     "output_type": "stream",
     "text": [
      "Your Balance is : 4765.2001953125\n",
      "to buy shares, please enter the ticker's number:\n",
      "1- AMZN\n",
      "2- FB\n",
      "3- TSLA\n",
      "4- GOOGL\n",
      "5- AAPL\n",
      "1\n",
      "AMZN price is 2181.3798828125 per share, how many shares do you want to buy?2\n",
      "You have successfully buy 2 shares of AMZN, your new Balance is : 402.4404296875$\n"
     ]
    }
   ],
   "source": [
    "print(f'Your Balance is : {Balance}')\n",
    "pick = int(input('''to buy shares, please enter the ticker's number:\n",
    "1- AMZN\n",
    "2- FB\n",
    "3- TSLA\n",
    "4- GOOGL\n",
    "5- AAPL\n",
    "'''))\n",
    "curr_price = list(tlist[pick-1]['Open'])[-1]\n",
    "to_buy = int(input(f'{tickers[pick-1]} price is {curr_price} per share, how many shares do you want to buy?'))\n",
    "if(to_buy * curr_price > Balance):\n",
    "    print(\"Insufficient Balance\")\n",
    "else:\n",
    "    Balance -= to_buy * curr_price\n",
    "    if tickers[pick-1] in user_shares.keys():\n",
    "        user_shares[tickers[pick-1]] += to_buy\n",
    "    else:\n",
    "        user_shares[tickers[pick-1]] = to_buy\n",
    "    print(f'You have successfully buy {to_buy} shares of {tickers[pick-1]}, your new Balance is : {Balance}$')\n",
    "        "
   ]
  },
  {
   "cell_type": "markdown",
   "metadata": {},
   "source": [
    "## to sell shares:"
   ]
  },
  {
   "cell_type": "code",
   "execution_count": 75,
   "metadata": {},
   "outputs": [
    {
     "name": "stdout",
     "output_type": "stream",
     "text": [
      "   Quantities Shares\n",
      "0         2.0   AMZN\n",
      "Your Shares are listed Below :\n",
      "to sell shares, please enter the ticker's number:\n",
      "1- AMZN\n",
      "2- FB\n",
      "3- TSLA\n",
      "4- GOOGL\n",
      "5- AAPL\n",
      "3\n",
      "You do not have any TSLA shares in your portfolio!\n"
     ]
    }
   ],
   "source": [
    "d = {'Shares': list(user_shares.keys()), 'Quantities': list(user_shares.values())}\n",
    "df2 = pd.DataFrame(data=d)\n",
    "df2 = df2.set_index('Quantities')\n",
    "df2 = df2.drop(0)\n",
    "df2 = df2.reset_index()\n",
    "if len(df2):\n",
    "    print(df2)\n",
    "print(f'Your Shares are listed Below :')\n",
    "pick = int(input('''to sell shares, please enter the ticker's number:\n",
    "1- AMZN\n",
    "2- FB\n",
    "3- TSLA\n",
    "4- GOOGL\n",
    "5- AAPL\n",
    "'''))\n",
    "if tickers[pick-1] in user_shares.keys() and user_shares[tickers[pick-1]] != 0:   \n",
    "    curr_price = list(tlist[pick-1]['Open'])[-1]\n",
    "    to_sell = int(input(f'{tickers[pick-1]} price is {curr_price} per share and you have {user_shares[tickers[pick-1]]} shares, how many shares of yours do you want to sell?'))\n",
    "    if(to_sell > int(user_shares[tickers[pick-1]])):\n",
    "        print(\"Insufficient Shares!\")\n",
    "    else:\n",
    "        user_shares[tickers[pick-1]] -= to_sell\n",
    "        Balance += to_sell * curr_price\n",
    "        print(f'You have successfully sell {to_sell} shares of {tickers[pick-1]}, your new Balance is : {Balance}')\n",
    "else:\n",
    "    print(f'You do not have any {tickers[pick-1]} shares in your portfolio!')\n",
    "        "
   ]
  },
  {
   "cell_type": "markdown",
   "metadata": {},
   "source": [
    "## to check charts:"
   ]
  },
  {
   "cell_type": "code",
   "execution_count": 52,
   "metadata": {},
   "outputs": [
    {
     "name": "stdout",
     "output_type": "stream",
     "text": [
      "to check the charts, please enter the ticker's number:\n",
      "1- AMZN\n",
      "2- FB\n",
      "3- TSLA\n",
      "4- GOOGL\n",
      "5- AAPL\n",
      "2\n"
     ]
    },
    {
     "data": {
      "image/png": "[encoded data removed]",
      "text/plain": [
       "<Figure size 1152x504 with 1 Axes>"
      ]
     },
     "metadata": {
      "needs_background": "light"
     },
     "output_type": "display_data"
    }
   ],
   "source": [
    "num = int(input('''to check the charts, please enter the ticker's number:\n",
    "1- AMZN\n",
    "2- FB\n",
    "3- TSLA\n",
    "4- GOOGL\n",
    "5- AAPL\n",
    "'''))\n",
    "if num in range(1,6):\n",
    "    xax = list(tlist[num-1]['Date'])\n",
    "    yax = list(tlist[num-1]['Open'])\n",
    "    xs = [datetime.strptime(x, \"%Y-%m-%d\") for x in xax]\n",
    "    plt.figure(figsize=(16,7))\n",
    "    plt.plot(xs, yax, label='chart',lw=1.5)\n",
    "    plt.title(f'{tickers[num-1]} Chart', fontsize=22)\n",
    "    plt.xlabel('Year', fontsize=18)\n",
    "    plt.grid(axis='y')\n",
    "    plt.ylabel('Price', fontsize=18)\n",
    "    plt.show()\n",
    "else:\n",
    "    print(\"Wrong ticker number!\")"
   ]
  },
  {
   "cell_type": "markdown",
   "metadata": {},
   "source": []
  },
  {
   "cell_type": "code",
   "execution_count": null,
   "metadata": {},
   "outputs": [],
   "source": []
  }
 ],
 "metadata": {
  "kernelspec": {
   "display_name": "Python 3",
   "language": "python",
   "name": "python3"
  },
  "language_info": {
   "codemirror_mode": {
    "name": "ipython",
    "version": 3
   },
   "file_extension": ".py",
   "mimetype": "text/x-python",
   "name": "python",
   "nbconvert_exporter": "python",
   "pygments_lexer": "ipython3",
   "version": "3.7.6"
  }
 },
 "nbformat": 4,
 "nbformat_minor": 4
}
